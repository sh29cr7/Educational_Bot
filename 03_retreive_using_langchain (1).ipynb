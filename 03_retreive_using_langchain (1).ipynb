{
  "cells": [
    {
      "cell_type": "code",
      "execution_count": null,
      "id": "984dc1c0-7b04-4d86-9a42-fca770255af6",
      "metadata": {
        "tags": [],
        "id": "984dc1c0-7b04-4d86-9a42-fca770255af6"
      },
      "outputs": [],
      "source": [
        "%pip install --upgrade pip\n",
        "%pip install boto3 --force-reinstall --quiet\n",
        "%pip install botocore --force-reinstall --quiet\n",
        "%pip install langchain --force-reinstall --quiet"
      ]
    },
    {
      "cell_type": "code",
      "execution_count": null,
      "id": "49d93215-eb09-4521-b170-7c4ee09ac3a2",
      "metadata": {
        "scrolled": true,
        "tags": [],
        "id": "49d93215-eb09-4521-b170-7c4ee09ac3a2"
      },
      "outputs": [],
      "source": [
        "# ! pip install langchain_community\n",
        "# ! pip install chromadb\n",
        "# ! pip install langchain_aws\n",
        "# !pip install rouge_score"
      ]
    },
    {
      "cell_type": "code",
      "execution_count": null,
      "id": "75c8fce7-bd66-40d5-8341-b861a0738210",
      "metadata": {
        "tags": [],
        "id": "75c8fce7-bd66-40d5-8341-b861a0738210"
      },
      "outputs": [],
      "source": [
        "# boto3_bedrock = boto3.client('bedrock')\n",
        "# [models['modelId'] for models in boto3_bedrock.list_foundation_models()['modelSummaries']]\n"
      ]
    },
    {
      "cell_type": "code",
      "source": [
        "#Importing the libraries\n",
        "import boto3\n",
        "import pprint\n",
        "from botocore.client import Config\n",
        "import json\n",
        "from langchain_community.embeddings import BedrockEmbeddings\n",
        "from langchain.prompts import PromptTemplate\n",
        "from langchain.chains import RetrievalQA\n",
        "import re\n",
        "from bs4 import BeautifulSoup"
      ],
      "metadata": {
        "id": "z6311fSBXuVC"
      },
      "id": "z6311fSBXuVC",
      "execution_count": null,
      "outputs": []
    },
    {
      "cell_type": "markdown",
      "source": [
        "Initiailising the llm and embedding models"
      ],
      "metadata": {
        "id": "AvvFfZPfX61e"
      },
      "id": "AvvFfZPfX61e"
    },
    {
      "cell_type": "code",
      "execution_count": null,
      "id": "6e2367e2-53c1-402e-a816-47ae629d1820",
      "metadata": {
        "tags": [],
        "id": "6e2367e2-53c1-402e-a816-47ae629d1820"
      },
      "outputs": [],
      "source": [
        "pp = pprint.PrettyPrinter(indent=2)\n",
        "session = boto3.session.Session()\n",
        "region = session.region_name\n",
        "bedrock_config = Config(connect_timeout=120, read_timeout=120, retries={'max_attempts': 0})\n",
        "bedrock_client = boto3.client('bedrock-runtime', region_name = region)\n",
        "bedrock_embeddings = BedrockEmbeddings(model_id = 'amazon.titan-embed-text-v1',)\n",
        "langchain_llm_claude_sonnet = ChatBedrock(model_id = \"anthropic.claude-3-sonnet-20240229-v1:0\")\n",
        "langchain_llm_meta_llama3_70b = ChatBedrock(model_id = \"meta.llama3-70b-instruct-v1:0\")\n",
        "\n",
        "\n",
        "#print(region)"
      ]
    },
    {
      "cell_type": "code",
      "execution_count": null,
      "id": "1c5f3f48-620c-4e3b-ab32-640cac564e59",
      "metadata": {
        "tags": [],
        "id": "1c5f3f48-620c-4e3b-ab32-640cac564e59"
      },
      "outputs": [],
      "source": [
        "def get_embeddings(text,bedrock_runtime):\n",
        "    # Define prompt and model parameters\n",
        "    body = json.dumps({\n",
        "        \"inputText\": text,\n",
        "    })\n",
        "\n",
        "    model_id = 'amazon.titan-embed-text-v1' #look for embeddings in the modelID\n",
        "    accept = 'application/json'\n",
        "    content_type = 'application/json'\n",
        "\n",
        "    # Invoke model\n",
        "    response = bedrock_runtime.invoke_model(\n",
        "        body=body,\n",
        "        modelId=model_id,\n",
        "        accept=accept,\n",
        "        contentType=content_type\n",
        "    )\n",
        "\n",
        "    # Print response\n",
        "    response_body = json.loads(response['body'].read())\n",
        "    embedding = response_body.get('embedding')\n",
        "\n",
        "    #Print the Embedding\n",
        "\n",
        "    return embedding\n"
      ]
    },
    {
      "cell_type": "markdown",
      "id": "76b4ffd9-0c4b-43c8-9ecb-d13c08fadecf",
      "metadata": {
        "tags": [],
        "id": "76b4ffd9-0c4b-43c8-9ecb-d13c08fadecf"
      },
      "source": [
        "---\n",
        "\n",
        "# Indexing : Integrating document and corresponding embeddings and storage to vector db"
      ]
    },
    {
      "cell_type": "code",
      "execution_count": null,
      "id": "7e1b2890-1de0-4a7d-a611-6537f476867b",
      "metadata": {
        "id": "7e1b2890-1de0-4a7d-a611-6537f476867b"
      },
      "outputs": [],
      "source": [
        "input_file_dir =f\"/data/text_files\"\n",
        "index_path     =f\"/data/index\""
      ]
    },
    {
      "cell_type": "code",
      "execution_count": null,
      "id": "84e739bb-657e-4ef0-a248-10dfbf8b8b1f",
      "metadata": {
        "tags": [],
        "id": "84e739bb-657e-4ef0-a248-10dfbf8b8b1f"
      },
      "outputs": [],
      "source": [
        "from langchain_community.document_loaders import TextLoader\n",
        "from langchain.text_splitter import CharacterTextSplitter, RecursiveCharacterTextSplitter\n",
        "from langchain_community.vectorstores import Chroma\n",
        "from langchain.indexes.vectorstore import VectorStoreIndexWrapper\n",
        "\n",
        "\n",
        "from langchain_community.document_loaders import TextLoader\n",
        "from tqdm.notebook import tqdm\n",
        "import os\n",
        "\n",
        "\n",
        "count = 0\n",
        "vectorstore_chromaDB = None\n",
        "for file in tqdm(os.listdir(input_file_dir)):\n",
        "    if file == \".ipynb_checkpoints\":\n",
        "        continue\n",
        "    count = count + 1\n",
        "    loader = TextLoader(f\"{input_file_dir}/{file}\")\n",
        "    doc = loader.load()\n",
        "    # embeddings = get_embeddings(\"hello\",bedrock_client)\n",
        "\n",
        "    if vectorstore_chromaDB:\n",
        "        vectorstore_chromaDB.add_documents(doc)\n",
        "    else:\n",
        "        vectorstore_chromaDB = Chroma.from_documents(doc,\n",
        "                              bedrock_embeddings,\n",
        "                              persist_directory = f\"{index_path}/index_rag\")\n",
        "\n",
        "\n"
      ]
    },
    {
      "cell_type": "markdown",
      "id": "363fe66d-12eb-4030-ab58-c323884e8770",
      "metadata": {
        "tags": [],
        "id": "363fe66d-12eb-4030-ab58-c323884e8770"
      },
      "source": [
        "---\n",
        "\n",
        "# Retreival : Performing basic RAG"
      ]
    },
    {
      "cell_type": "code",
      "execution_count": null,
      "id": "5d30c779-d9c9-489d-9d62-e2242cba1796",
      "metadata": {
        "tags": [],
        "id": "5d30c779-d9c9-489d-9d62-e2242cba1796"
      },
      "outputs": [],
      "source": [
        "\n",
        "\n",
        "def remove_time_stamps(text):\n",
        "    # Regular expression pattern to match time stamps in the format \"00:24:40\"\n",
        "    pattern = r'\\d{2}:\\d{2}:\\d{2}'\n",
        "\n",
        "    # Remove time stamps using the regular expression substitution\n",
        "    cleaned_text = re.sub(pattern, '', text)\n",
        "\n",
        "    return cleaned_text\n",
        "\n",
        "def post_process(text):\n",
        "    soup =  BeautifulSoup(text) #parse html with BeautifulSoup\n",
        "    start_time = soup.find('start_time').text #tag of interest <td>Example information</td>\n",
        "    end_time = soup.find('end_time').text #tag of interest <td>Example information</td>\n",
        "    file_name = soup.find('file_name').text\n",
        "    answer = BeautifulSoup(text, \"lxml\").text\n",
        "    answer = remove_time_stamps(answer)\n",
        "    return answer,start_time,end_time,file_name\n",
        "\n",
        "\n"
      ]
    },
    {
      "cell_type": "code",
      "execution_count": null,
      "id": "be373ff2-98c4-410f-a1aa-9bc4d921b64a",
      "metadata": {
        "tags": [],
        "id": "be373ff2-98c4-410f-a1aa-9bc4d921b64a"
      },
      "outputs": [],
      "source": [
        "query = \"Can be defined accordingly for testing\""
      ]
    },
    {
      "cell_type": "code",
      "execution_count": null,
      "id": "87947f49-71c6-49a4-a3d2-f22e15069249",
      "metadata": {
        "tags": [],
        "id": "87947f49-71c6-49a4-a3d2-f22e15069249"
      },
      "outputs": [],
      "source": [
        "\n",
        "\n",
        "prompt_template = \"\"\"\n",
        "\n",
        "Human: You are a educational tutorial AI system, and provides answers to questions by using fact based and statistical information when possible.\n",
        "Use the following pieces of information to provide a concise answer to the question enclosed in <question> tags.\n",
        "If you don't know the answer, just say that you don't know, don't try to make up an answer.\n",
        "Also provide the start time, end time and the file name in the start_time, end_time and file_name tags respectively.\n",
        "\n",
        "<context>\n",
        "{context}\n",
        "</context>\n",
        "\n",
        "<question>\n",
        "{question}\n",
        "</question>\n",
        "\n",
        "Don't Add any additional text like 'but no specific details about what a Decision Tree is are provided in the given context'\n",
        "Assistant: Answer in answer tag and start time, end time and file name in the start_time, end_time and file_name tags are as follows:\"\"\"\n",
        "\n",
        "\n",
        "\n",
        "\n",
        "PROMPT = PromptTemplate(\n",
        "    template=prompt_template, input_variables=[\"context\", \"question\"]\n",
        ")\n",
        "\n",
        "\n",
        "vectorstore_chromaDB = Chroma(persist_directory=f\"{index_path}/index_rag\", embedding_function=bedrock_embeddings)\n",
        "\n",
        "qa = RetrievalQA.from_chain_type(\n",
        "    llm=langchain_llm_claude_sonnet,\n",
        "    chain_type=\"stuff\",\n",
        "    retriever=vectorstore_chromaDB.as_retriever(\n",
        "        search_type=\"similarity\", search_kwargs={\"k\": 3}\n",
        "    ),\n",
        "    return_source_documents=True,\n",
        "    chain_type_kwargs={\"prompt\": PROMPT}\n",
        ")\n",
        "answer = qa({\"query\": query})\n",
        "# print(answer[\"result\"])\n",
        "\n",
        "print(post_process(answer[\"result\"]))\n",
        "\n",
        "from rouge_score import rouge_scorer\n",
        "\n",
        "scorer = rouge_scorer.RougeScorer(['rouge1', 'rougeL'], use_stemmer=True)\n",
        "\n",
        "\n",
        "# if query == question_answer[\"question\"]:\n",
        "\n",
        "#     scores = scorer.score(question_answer[\"answer\"],answer[\"result\"])\n",
        "#     st.write(f\"Rouge score - {scores['rouge1']}\")\n"
      ]
    },
    {
      "cell_type": "code",
      "execution_count": null,
      "id": "85e53152-47be-48ea-9726-a05fa27ef88c",
      "metadata": {
        "tags": [],
        "id": "85e53152-47be-48ea-9726-a05fa27ef88c"
      },
      "outputs": [],
      "source": [
        "qa = RetrievalQA.from_chain_type(\n",
        "    llm=langchain_llm_meta_llama3_70b,\n",
        "    chain_type=\"stuff\",\n",
        "    retriever=vectorstore_chromaDB.as_retriever(\n",
        "        search_type=\"similarity\", search_kwargs={\"k\": 3}\n",
        "    ),\n",
        "    return_source_documents=True,\n",
        "    chain_type_kwargs={\"prompt\": PROMPT}\n",
        ")\n",
        "answer = qa({\"query\": query})\n",
        "print(answer[\"result\"])\n",
        "\n",
        "print(post_process(answer[\"result\"]))"
      ]
    },
    {
      "cell_type": "code",
      "execution_count": null,
      "id": "4f62dd76-8714-4a90-82fc-b367920c7134",
      "metadata": {
        "tags": [],
        "id": "4f62dd76-8714-4a90-82fc-b367920c7134"
      },
      "outputs": [],
      "source": [
        "print(answer[\"result\"])"
      ]
    },
    {
      "cell_type": "code",
      "execution_count": null,
      "id": "7740a6fd-2fc3-41ab-a8b6-2eb1caca6bb8",
      "metadata": {
        "tags": [],
        "id": "7740a6fd-2fc3-41ab-a8b6-2eb1caca6bb8"
      },
      "outputs": [],
      "source": [
        "# qa = RetrievalQA.from_chain_type(\n",
        "#     llm=langchain_llm_mistral_large_2,\n",
        "#     chain_type=\"stuff\",\n",
        "#     retriever=vectorstore_chromaDB.as_retriever(\n",
        "#         search_type=\"similarity\", search_kwargs={\"k\": 3}\n",
        "#     ),\n",
        "#     return_source_documents=True,\n",
        "#     chain_type_kwargs={\"prompt\": MISTRAL_PROMPT}\n",
        "# )\n",
        "# answer = qa({\"query\": query})\n",
        "# print(answer[\"result\"])\n",
        "\n"
      ]
    },
    {
      "cell_type": "code",
      "execution_count": null,
      "id": "0eb431d8-f586-4fba-9a6a-c8a0586e40db",
      "metadata": {
        "tags": [],
        "id": "0eb431d8-f586-4fba-9a6a-c8a0586e40db"
      },
      "outputs": [],
      "source": [
        "# qa = RetrievalQA.from_chain_type(\n",
        "#     llm=langchain_llm_cohere_command_r_plus,\n",
        "#     chain_type=\"stuff\",\n",
        "#     retriever=vectorstore_chromaDB.as_retriever(\n",
        "#         search_type=\"similarity\", search_kwargs={\"k\": 3}\n",
        "#     ),\n",
        "#     return_source_documents=True,\n",
        "#     chain_type_kwargs={\"prompt\": PROMPT}\n",
        "# )\n",
        "# answer = qa({\"query\": query})\n",
        "# print(answer[\"result\"])\n",
        "\n",
        "\n"
      ]
    },
    {
      "cell_type": "code",
      "execution_count": null,
      "id": "adf41e30-959f-49ee-9fb2-c6f1ca5e5220",
      "metadata": {
        "id": "adf41e30-959f-49ee-9fb2-c6f1ca5e5220"
      },
      "outputs": [],
      "source": [
        "s = \"<start_time>00:00:40</start_time> <end_time>00:01:20</end_time> <file_name>Data_structures-Introduction_to_graphs-_YouTube_audio_chunk_40000.wav</file_name>\""
      ]
    },
    {
      "cell_type": "code",
      "execution_count": null,
      "id": "5fd6997a-68ce-45c2-b6fc-a72730128296",
      "metadata": {
        "tags": [],
        "id": "5fd6997a-68ce-45c2-b6fc-a72730128296"
      },
      "outputs": [],
      "source": [
        "soup =  BeautifulSoup(s)\n",
        "\n",
        "file_name = soup.find('file_name').text"
      ]
    },
    {
      "cell_type": "code",
      "execution_count": null,
      "id": "8d7cc7cd-e240-49c9-af73-c944292136c0",
      "metadata": {
        "tags": [],
        "id": "8d7cc7cd-e240-49c9-af73-c944292136c0"
      },
      "outputs": [],
      "source": [
        "file_name"
      ]
    },
    {
      "cell_type": "code",
      "execution_count": null,
      "id": "df7ebf57-e0df-4585-b59d-9664636c3d7e",
      "metadata": {
        "tags": [],
        "id": "df7ebf57-e0df-4585-b59d-9664636c3d7e"
      },
      "outputs": [],
      "source": [
        "def post_process(text):\n",
        "\n",
        "    soup =  BeautifulSoup(text) #parse html with BeautifulSoup\n",
        "    start_time = soup.find('start_time').text #tag of interest <td>Example information</td>\n",
        "    end_time = soup.find('end_time').text #tag of interest <td>Example information</td>\n",
        "    file_name = soup.find('file_name').text\n",
        "    answer = BeautifulSoup(text, \"lxml\").text\n",
        "    answer = remove_time_stamps(answer)\n",
        "    return answer,start_time,end_time,file_name"
      ]
    },
    {
      "cell_type": "code",
      "execution_count": null,
      "id": "8da1b385-1a47-4e1b-b161-6e943c88c801",
      "metadata": {
        "tags": [],
        "id": "8da1b385-1a47-4e1b-b161-6e943c88c801"
      },
      "outputs": [],
      "source": [
        "post_process(\"\"\" <answer> A data structure is a way to store and organize data. The given context mentions that \"data structures are ways to store and organise data and for different kinds of data, we use different kinds of data structures.\" </answer>\n",
        "\n",
        "<start_time>00:00:40</start_time> <end_time>00:01:20</end_time> <file_name>Data_structures-Introduction_to_graphs-_YouTube_audio_chunk_40000.wav</file_name>\n",
        "\n",
        "\"\"\")"
      ]
    },
    {
      "cell_type": "code",
      "execution_count": null,
      "id": "522bdd70-95a7-4d77-bfc5-3971eb993c4e",
      "metadata": {
        "id": "522bdd70-95a7-4d77-bfc5-3971eb993c4e"
      },
      "outputs": [],
      "source": []
    }
  ],
  "metadata": {
    "availableInstances": [
      {
        "_defaultOrder": 0,
        "_isFastLaunch": true,
        "category": "General purpose",
        "gpuNum": 0,
        "hideHardwareSpecs": false,
        "memoryGiB": 4,
        "name": "ml.t3.medium",
        "vcpuNum": 2
      },
      {
        "_defaultOrder": 1,
        "_isFastLaunch": false,
        "category": "General purpose",
        "gpuNum": 0,
        "hideHardwareSpecs": false,
        "memoryGiB": 8,
        "name": "ml.t3.large",
        "vcpuNum": 2
      },
      {
        "_defaultOrder": 2,
        "_isFastLaunch": false,
        "category": "General purpose",
        "gpuNum": 0,
        "hideHardwareSpecs": false,
        "memoryGiB": 16,
        "name": "ml.t3.xlarge",
        "vcpuNum": 4
      },
      {
        "_defaultOrder": 3,
        "_isFastLaunch": false,
        "category": "General purpose",
        "gpuNum": 0,
        "hideHardwareSpecs": false,
        "memoryGiB": 32,
        "name": "ml.t3.2xlarge",
        "vcpuNum": 8
      },
      {
        "_defaultOrder": 4,
        "_isFastLaunch": true,
        "category": "General purpose",
        "gpuNum": 0,
        "hideHardwareSpecs": false,
        "memoryGiB": 8,
        "name": "ml.m5.large",
        "vcpuNum": 2
      },
      {
        "_defaultOrder": 5,
        "_isFastLaunch": false,
        "category": "General purpose",
        "gpuNum": 0,
        "hideHardwareSpecs": false,
        "memoryGiB": 16,
        "name": "ml.m5.xlarge",
        "vcpuNum": 4
      },
      {
        "_defaultOrder": 6,
        "_isFastLaunch": false,
        "category": "General purpose",
        "gpuNum": 0,
        "hideHardwareSpecs": false,
        "memoryGiB": 32,
        "name": "ml.m5.2xlarge",
        "vcpuNum": 8
      },
      {
        "_defaultOrder": 7,
        "_isFastLaunch": false,
        "category": "General purpose",
        "gpuNum": 0,
        "hideHardwareSpecs": false,
        "memoryGiB": 64,
        "name": "ml.m5.4xlarge",
        "vcpuNum": 16
      },
      {
        "_defaultOrder": 8,
        "_isFastLaunch": false,
        "category": "General purpose",
        "gpuNum": 0,
        "hideHardwareSpecs": false,
        "memoryGiB": 128,
        "name": "ml.m5.8xlarge",
        "vcpuNum": 32
      },
      {
        "_defaultOrder": 9,
        "_isFastLaunch": false,
        "category": "General purpose",
        "gpuNum": 0,
        "hideHardwareSpecs": false,
        "memoryGiB": 192,
        "name": "ml.m5.12xlarge",
        "vcpuNum": 48
      },
      {
        "_defaultOrder": 10,
        "_isFastLaunch": false,
        "category": "General purpose",
        "gpuNum": 0,
        "hideHardwareSpecs": false,
        "memoryGiB": 256,
        "name": "ml.m5.16xlarge",
        "vcpuNum": 64
      },
      {
        "_defaultOrder": 11,
        "_isFastLaunch": false,
        "category": "General purpose",
        "gpuNum": 0,
        "hideHardwareSpecs": false,
        "memoryGiB": 384,
        "name": "ml.m5.24xlarge",
        "vcpuNum": 96
      },
      {
        "_defaultOrder": 12,
        "_isFastLaunch": false,
        "category": "General purpose",
        "gpuNum": 0,
        "hideHardwareSpecs": false,
        "memoryGiB": 8,
        "name": "ml.m5d.large",
        "vcpuNum": 2
      },
      {
        "_defaultOrder": 13,
        "_isFastLaunch": false,
        "category": "General purpose",
        "gpuNum": 0,
        "hideHardwareSpecs": false,
        "memoryGiB": 16,
        "name": "ml.m5d.xlarge",
        "vcpuNum": 4
      },
      {
        "_defaultOrder": 14,
        "_isFastLaunch": false,
        "category": "General purpose",
        "gpuNum": 0,
        "hideHardwareSpecs": false,
        "memoryGiB": 32,
        "name": "ml.m5d.2xlarge",
        "vcpuNum": 8
      },
      {
        "_defaultOrder": 15,
        "_isFastLaunch": false,
        "category": "General purpose",
        "gpuNum": 0,
        "hideHardwareSpecs": false,
        "memoryGiB": 64,
        "name": "ml.m5d.4xlarge",
        "vcpuNum": 16
      },
      {
        "_defaultOrder": 16,
        "_isFastLaunch": false,
        "category": "General purpose",
        "gpuNum": 0,
        "hideHardwareSpecs": false,
        "memoryGiB": 128,
        "name": "ml.m5d.8xlarge",
        "vcpuNum": 32
      },
      {
        "_defaultOrder": 17,
        "_isFastLaunch": false,
        "category": "General purpose",
        "gpuNum": 0,
        "hideHardwareSpecs": false,
        "memoryGiB": 192,
        "name": "ml.m5d.12xlarge",
        "vcpuNum": 48
      },
      {
        "_defaultOrder": 18,
        "_isFastLaunch": false,
        "category": "General purpose",
        "gpuNum": 0,
        "hideHardwareSpecs": false,
        "memoryGiB": 256,
        "name": "ml.m5d.16xlarge",
        "vcpuNum": 64
      },
      {
        "_defaultOrder": 19,
        "_isFastLaunch": false,
        "category": "General purpose",
        "gpuNum": 0,
        "hideHardwareSpecs": false,
        "memoryGiB": 384,
        "name": "ml.m5d.24xlarge",
        "vcpuNum": 96
      },
      {
        "_defaultOrder": 20,
        "_isFastLaunch": false,
        "category": "General purpose",
        "gpuNum": 0,
        "hideHardwareSpecs": true,
        "memoryGiB": 0,
        "name": "ml.geospatial.interactive",
        "supportedImageNames": [
          "sagemaker-geospatial-v1-0"
        ],
        "vcpuNum": 0
      },
      {
        "_defaultOrder": 21,
        "_isFastLaunch": true,
        "category": "Compute optimized",
        "gpuNum": 0,
        "hideHardwareSpecs": false,
        "memoryGiB": 4,
        "name": "ml.c5.large",
        "vcpuNum": 2
      },
      {
        "_defaultOrder": 22,
        "_isFastLaunch": false,
        "category": "Compute optimized",
        "gpuNum": 0,
        "hideHardwareSpecs": false,
        "memoryGiB": 8,
        "name": "ml.c5.xlarge",
        "vcpuNum": 4
      },
      {
        "_defaultOrder": 23,
        "_isFastLaunch": false,
        "category": "Compute optimized",
        "gpuNum": 0,
        "hideHardwareSpecs": false,
        "memoryGiB": 16,
        "name": "ml.c5.2xlarge",
        "vcpuNum": 8
      },
      {
        "_defaultOrder": 24,
        "_isFastLaunch": false,
        "category": "Compute optimized",
        "gpuNum": 0,
        "hideHardwareSpecs": false,
        "memoryGiB": 32,
        "name": "ml.c5.4xlarge",
        "vcpuNum": 16
      },
      {
        "_defaultOrder": 25,
        "_isFastLaunch": false,
        "category": "Compute optimized",
        "gpuNum": 0,
        "hideHardwareSpecs": false,
        "memoryGiB": 72,
        "name": "ml.c5.9xlarge",
        "vcpuNum": 36
      },
      {
        "_defaultOrder": 26,
        "_isFastLaunch": false,
        "category": "Compute optimized",
        "gpuNum": 0,
        "hideHardwareSpecs": false,
        "memoryGiB": 96,
        "name": "ml.c5.12xlarge",
        "vcpuNum": 48
      },
      {
        "_defaultOrder": 27,
        "_isFastLaunch": false,
        "category": "Compute optimized",
        "gpuNum": 0,
        "hideHardwareSpecs": false,
        "memoryGiB": 144,
        "name": "ml.c5.18xlarge",
        "vcpuNum": 72
      },
      {
        "_defaultOrder": 28,
        "_isFastLaunch": false,
        "category": "Compute optimized",
        "gpuNum": 0,
        "hideHardwareSpecs": false,
        "memoryGiB": 192,
        "name": "ml.c5.24xlarge",
        "vcpuNum": 96
      },
      {
        "_defaultOrder": 29,
        "_isFastLaunch": true,
        "category": "Accelerated computing",
        "gpuNum": 1,
        "hideHardwareSpecs": false,
        "memoryGiB": 16,
        "name": "ml.g4dn.xlarge",
        "vcpuNum": 4
      },
      {
        "_defaultOrder": 30,
        "_isFastLaunch": false,
        "category": "Accelerated computing",
        "gpuNum": 1,
        "hideHardwareSpecs": false,
        "memoryGiB": 32,
        "name": "ml.g4dn.2xlarge",
        "vcpuNum": 8
      },
      {
        "_defaultOrder": 31,
        "_isFastLaunch": false,
        "category": "Accelerated computing",
        "gpuNum": 1,
        "hideHardwareSpecs": false,
        "memoryGiB": 64,
        "name": "ml.g4dn.4xlarge",
        "vcpuNum": 16
      },
      {
        "_defaultOrder": 32,
        "_isFastLaunch": false,
        "category": "Accelerated computing",
        "gpuNum": 1,
        "hideHardwareSpecs": false,
        "memoryGiB": 128,
        "name": "ml.g4dn.8xlarge",
        "vcpuNum": 32
      },
      {
        "_defaultOrder": 33,
        "_isFastLaunch": false,
        "category": "Accelerated computing",
        "gpuNum": 4,
        "hideHardwareSpecs": false,
        "memoryGiB": 192,
        "name": "ml.g4dn.12xlarge",
        "vcpuNum": 48
      },
      {
        "_defaultOrder": 34,
        "_isFastLaunch": false,
        "category": "Accelerated computing",
        "gpuNum": 1,
        "hideHardwareSpecs": false,
        "memoryGiB": 256,
        "name": "ml.g4dn.16xlarge",
        "vcpuNum": 64
      },
      {
        "_defaultOrder": 35,
        "_isFastLaunch": false,
        "category": "Accelerated computing",
        "gpuNum": 1,
        "hideHardwareSpecs": false,
        "memoryGiB": 61,
        "name": "ml.p3.2xlarge",
        "vcpuNum": 8
      },
      {
        "_defaultOrder": 36,
        "_isFastLaunch": false,
        "category": "Accelerated computing",
        "gpuNum": 4,
        "hideHardwareSpecs": false,
        "memoryGiB": 244,
        "name": "ml.p3.8xlarge",
        "vcpuNum": 32
      },
      {
        "_defaultOrder": 37,
        "_isFastLaunch": false,
        "category": "Accelerated computing",
        "gpuNum": 8,
        "hideHardwareSpecs": false,
        "memoryGiB": 488,
        "name": "ml.p3.16xlarge",
        "vcpuNum": 64
      },
      {
        "_defaultOrder": 38,
        "_isFastLaunch": false,
        "category": "Accelerated computing",
        "gpuNum": 8,
        "hideHardwareSpecs": false,
        "memoryGiB": 768,
        "name": "ml.p3dn.24xlarge",
        "vcpuNum": 96
      },
      {
        "_defaultOrder": 39,
        "_isFastLaunch": false,
        "category": "Memory Optimized",
        "gpuNum": 0,
        "hideHardwareSpecs": false,
        "memoryGiB": 16,
        "name": "ml.r5.large",
        "vcpuNum": 2
      },
      {
        "_defaultOrder": 40,
        "_isFastLaunch": false,
        "category": "Memory Optimized",
        "gpuNum": 0,
        "hideHardwareSpecs": false,
        "memoryGiB": 32,
        "name": "ml.r5.xlarge",
        "vcpuNum": 4
      },
      {
        "_defaultOrder": 41,
        "_isFastLaunch": false,
        "category": "Memory Optimized",
        "gpuNum": 0,
        "hideHardwareSpecs": false,
        "memoryGiB": 64,
        "name": "ml.r5.2xlarge",
        "vcpuNum": 8
      },
      {
        "_defaultOrder": 42,
        "_isFastLaunch": false,
        "category": "Memory Optimized",
        "gpuNum": 0,
        "hideHardwareSpecs": false,
        "memoryGiB": 128,
        "name": "ml.r5.4xlarge",
        "vcpuNum": 16
      },
      {
        "_defaultOrder": 43,
        "_isFastLaunch": false,
        "category": "Memory Optimized",
        "gpuNum": 0,
        "hideHardwareSpecs": false,
        "memoryGiB": 256,
        "name": "ml.r5.8xlarge",
        "vcpuNum": 32
      },
      {
        "_defaultOrder": 44,
        "_isFastLaunch": false,
        "category": "Memory Optimized",
        "gpuNum": 0,
        "hideHardwareSpecs": false,
        "memoryGiB": 384,
        "name": "ml.r5.12xlarge",
        "vcpuNum": 48
      },
      {
        "_defaultOrder": 45,
        "_isFastLaunch": false,
        "category": "Memory Optimized",
        "gpuNum": 0,
        "hideHardwareSpecs": false,
        "memoryGiB": 512,
        "name": "ml.r5.16xlarge",
        "vcpuNum": 64
      },
      {
        "_defaultOrder": 46,
        "_isFastLaunch": false,
        "category": "Memory Optimized",
        "gpuNum": 0,
        "hideHardwareSpecs": false,
        "memoryGiB": 768,
        "name": "ml.r5.24xlarge",
        "vcpuNum": 96
      },
      {
        "_defaultOrder": 47,
        "_isFastLaunch": false,
        "category": "Accelerated computing",
        "gpuNum": 1,
        "hideHardwareSpecs": false,
        "memoryGiB": 16,
        "name": "ml.g5.xlarge",
        "vcpuNum": 4
      },
      {
        "_defaultOrder": 48,
        "_isFastLaunch": false,
        "category": "Accelerated computing",
        "gpuNum": 1,
        "hideHardwareSpecs": false,
        "memoryGiB": 32,
        "name": "ml.g5.2xlarge",
        "vcpuNum": 8
      },
      {
        "_defaultOrder": 49,
        "_isFastLaunch": false,
        "category": "Accelerated computing",
        "gpuNum": 1,
        "hideHardwareSpecs": false,
        "memoryGiB": 64,
        "name": "ml.g5.4xlarge",
        "vcpuNum": 16
      },
      {
        "_defaultOrder": 50,
        "_isFastLaunch": false,
        "category": "Accelerated computing",
        "gpuNum": 1,
        "hideHardwareSpecs": false,
        "memoryGiB": 128,
        "name": "ml.g5.8xlarge",
        "vcpuNum": 32
      },
      {
        "_defaultOrder": 51,
        "_isFastLaunch": false,
        "category": "Accelerated computing",
        "gpuNum": 1,
        "hideHardwareSpecs": false,
        "memoryGiB": 256,
        "name": "ml.g5.16xlarge",
        "vcpuNum": 64
      },
      {
        "_defaultOrder": 52,
        "_isFastLaunch": false,
        "category": "Accelerated computing",
        "gpuNum": 4,
        "hideHardwareSpecs": false,
        "memoryGiB": 192,
        "name": "ml.g5.12xlarge",
        "vcpuNum": 48
      },
      {
        "_defaultOrder": 53,
        "_isFastLaunch": false,
        "category": "Accelerated computing",
        "gpuNum": 4,
        "hideHardwareSpecs": false,
        "memoryGiB": 384,
        "name": "ml.g5.24xlarge",
        "vcpuNum": 96
      },
      {
        "_defaultOrder": 54,
        "_isFastLaunch": false,
        "category": "Accelerated computing",
        "gpuNum": 8,
        "hideHardwareSpecs": false,
        "memoryGiB": 768,
        "name": "ml.g5.48xlarge",
        "vcpuNum": 192
      },
      {
        "_defaultOrder": 55,
        "_isFastLaunch": false,
        "category": "Accelerated computing",
        "gpuNum": 8,
        "hideHardwareSpecs": false,
        "memoryGiB": 1152,
        "name": "ml.p4d.24xlarge",
        "vcpuNum": 96
      },
      {
        "_defaultOrder": 56,
        "_isFastLaunch": false,
        "category": "Accelerated computing",
        "gpuNum": 8,
        "hideHardwareSpecs": false,
        "memoryGiB": 1152,
        "name": "ml.p4de.24xlarge",
        "vcpuNum": 96
      },
      {
        "_defaultOrder": 57,
        "_isFastLaunch": false,
        "category": "Accelerated computing",
        "gpuNum": 0,
        "hideHardwareSpecs": false,
        "memoryGiB": 32,
        "name": "ml.trn1.2xlarge",
        "vcpuNum": 8
      },
      {
        "_defaultOrder": 58,
        "_isFastLaunch": false,
        "category": "Accelerated computing",
        "gpuNum": 0,
        "hideHardwareSpecs": false,
        "memoryGiB": 512,
        "name": "ml.trn1.32xlarge",
        "vcpuNum": 128
      },
      {
        "_defaultOrder": 59,
        "_isFastLaunch": false,
        "category": "Accelerated computing",
        "gpuNum": 0,
        "hideHardwareSpecs": false,
        "memoryGiB": 512,
        "name": "ml.trn1n.32xlarge",
        "vcpuNum": 128
      }
    ],
    "instance_type": "ml.t3.medium",
    "kernelspec": {
      "display_name": "Python 3 (Data Science 3.0)",
      "language": "python",
      "name": "python3__SAGEMAKER_INTERNAL__arn:aws:sagemaker:us-east-1:081325390199:image/sagemaker-data-science-310-v1"
    },
    "language_info": {
      "codemirror_mode": {
        "name": "ipython",
        "version": 3
      },
      "file_extension": ".py",
      "mimetype": "text/x-python",
      "name": "python",
      "nbconvert_exporter": "python",
      "pygments_lexer": "ipython3",
      "version": "3.10.6"
    },
    "colab": {
      "provenance": []
    }
  },
  "nbformat": 4,
  "nbformat_minor": 5
}