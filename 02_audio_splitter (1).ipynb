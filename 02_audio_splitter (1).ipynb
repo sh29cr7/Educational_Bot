{
  "cells": [
    {
      "cell_type": "code",
      "execution_count": null,
      "id": "422046fd-f7fb-4f27-82a5-ca77beea30da",
      "metadata": {
        "tags": [],
        "id": "422046fd-f7fb-4f27-82a5-ca77beea30da"
      },
      "outputs": [],
      "source": [
        "# !pip install pydub\n",
        "# !pip install ffmpeg-python\n",
        "# !pip install librosa"
      ]
    },
    {
      "cell_type": "code",
      "execution_count": null,
      "id": "7e526a3e-cac5-49e6-9c57-0f037cd431ae",
      "metadata": {
        "tags": [],
        "id": "7e526a3e-cac5-49e6-9c57-0f037cd431ae"
      },
      "outputs": [],
      "source": [
        "# !sudo yum install -y unzip\n",
        "# # #Download ffmpeg and ffprobe from https://ffbinaries.com/downloads\n",
        "# # #now we want ffmpeg and ffprobe files to be in the folder of their same name respectively\n",
        "\n",
        "# ! unzip ffmpeg-6.1-linux-64.zip ffmpeg\n",
        "# ! unzip ffprobe-6.1-linux-64.zip ffprobe\n"
      ]
    },
    {
      "cell_type": "code",
      "source": [
        "import os\n",
        "import librosa\n",
        "import numpy as np\n",
        "from matplotlib import pyplot as plt\n",
        "from tqdm.notebook import tqdm\n",
        "from pydub import AudioSegment\n",
        "import boto3\n",
        "import os\n",
        "from uuid import uuid4\n",
        "from botocore.exceptions import ClientError\n",
        "import time\n",
        "import pandas as pd\n",
        "import requests\n",
        "import time"
      ],
      "metadata": {
        "id": "-SkMDPndbN9w"
      },
      "id": "-SkMDPndbN9w",
      "execution_count": null,
      "outputs": []
    },
    {
      "cell_type": "code",
      "execution_count": null,
      "id": "fe902a17-077a-4084-b95e-9e8cac0d0756",
      "metadata": {
        "tags": [],
        "id": "fe902a17-077a-4084-b95e-9e8cac0d0756"
      },
      "outputs": [],
      "source": [
        "os.environ[\"PATH\"] += os.pathsep + f'{os.getcwd()}/ffmpeg'\n",
        "os.environ[\"PATH\"] += os.pathsep + f'{os.getcwd()}/ffprobe'"
      ]
    },
    {
      "cell_type": "markdown",
      "id": "510c77d9-417e-4532-8348-969699e2fb65",
      "metadata": {
        "id": "510c77d9-417e-4532-8348-969699e2fb65"
      },
      "source": [
        "---\n",
        "\n",
        "# Audio Splitting : Splitting the audio into 40 second chunks."
      ]
    },
    {
      "cell_type": "code",
      "execution_count": null,
      "id": "2567b572-116f-4fb6-8015-b0a92d669619",
      "metadata": {
        "tags": [],
        "id": "2567b572-116f-4fb6-8015-b0a92d669619"
      },
      "outputs": [],
      "source": [
        "time_duration = 40"
      ]
    },
    {
      "cell_type": "code",
      "execution_count": null,
      "id": "e8562f6e-c7a7-40d5-bdf2-f31f7bd8ab87",
      "metadata": {
        "scrolled": true,
        "tags": [],
        "id": "e8562f6e-c7a7-40d5-bdf2-f31f7bd8ab87"
      },
      "outputs": [],
      "source": [
        "audio_dir = \"/data/audio\"\n",
        "split_audio_dir = \"/data/split_audio\"\n",
        "audio_file_list = []\n",
        "for audio_file in tqdm(os.listdir(audio_dir)):\n",
        "    if audio_file == \".ipynb_checkpoints\":\n",
        "        continue\n",
        "\n",
        "    audio = AudioSegment.from_mp3(f\"{audio_dir}/{audio_file}\")\n",
        "    # list_of_timestamps = [ 10, 20, 30, 40, 50 ,60, 70, 80, 90 ] #and so on in *seconds*\n",
        "    total_duration = audio.duration_seconds\n",
        "    print(f\"total_duration - {total_duration}\")\n",
        "    list_of_timestamps = [time_duration*x for x in range(1, int(total_duration / time_duration)+ 1)]\n",
        "    print(list_of_timestamps)\n",
        "    start = 0\n",
        "\n",
        "    for  idx,t in enumerate(list_of_timestamps):\n",
        "        #break loop if at last element of list\n",
        "        if idx == len(list_of_timestamps):\n",
        "            break\n",
        "\n",
        "        end = t * 1000 #pydub works in millisec\n",
        "        print(\"split at [ {}:{}] ms\".format(start, end))\n",
        "        audio_chunk=audio[start:end]\n",
        "        file_name = \"{}_audio_chunk_{}.wav\".format(audio_file[:-4].replace(\" \",\"_\"),end)\n",
        "        audio_chunk.export(\"{}/{}\".format(split_audio_dir,file_name), format=\"wav\")\n",
        "        audio_file_list.append(file_name)\n",
        "        start = end  #pydub works in millisec"
      ]
    },
    {
      "cell_type": "markdown",
      "id": "eee663c0-8b5b-418a-a52d-886c8909494f",
      "metadata": {
        "id": "eee663c0-8b5b-418a-a52d-886c8909494f"
      },
      "source": [
        "---\n",
        "\n",
        "# Transcribe : Using Amazon transcribe to fetch text from the audio chunks."
      ]
    },
    {
      "cell_type": "code",
      "execution_count": null,
      "id": "913b48c9-05e8-471b-b3e9-64ed6eb90180",
      "metadata": {
        "tags": [],
        "id": "913b48c9-05e8-471b-b3e9-64ed6eb90180"
      },
      "outputs": [],
      "source": [
        "def start_job(\n",
        "    job_name,\n",
        "    media_uri,\n",
        "    media_format,\n",
        "    language_code,\n",
        "    transcribe_client,\n",
        "    vocabulary_name=None,\n",
        "):\n",
        "    \"\"\"\n",
        "    Starts a transcription job. This function returns as soon as the job is started.\n",
        "    To get the current status of the job, call get_transcription_job. The job is\n",
        "    successfully completed when the job status is 'COMPLETED'.\n",
        "\n",
        "    :param job_name: The name of the transcription job. This must be unique for\n",
        "                     your AWS account.\n",
        "    :param media_uri: The URI where the audio file is stored. This is typically\n",
        "                      in an Amazon S3 bucket.\n",
        "    :param media_format: The format of the audio file. For example, mp3 or wav.\n",
        "    :param language_code: The language code of the audio file.\n",
        "                          For example, en-US or ja-JP\n",
        "    :param transcribe_client: The Boto3 Transcribe client.\n",
        "    :param vocabulary_name: The name of a custom vocabulary to use when transcribing\n",
        "                            the audio file.\n",
        "    :return: Data about the job.\n",
        "    \"\"\"\n",
        "    try:\n",
        "        job_args = {\n",
        "            \"TranscriptionJobName\": job_name,\n",
        "            \"Media\": {\"MediaFileUri\": media_uri},\n",
        "            \"MediaFormat\": media_format,\n",
        "            \"LanguageCode\": language_code,\n",
        "        }\n",
        "        if vocabulary_name is not None:\n",
        "            job_args[\"Settings\"] = {\"VocabularyName\": vocabulary_name}\n",
        "        response = transcribe_client.start_transcription_job(**job_args)\n",
        "        job = response[\"TranscriptionJob\"]\n",
        "        print(\"Started transcription job %s.\", job_name)\n",
        "    except ClientError:\n",
        "        print(\"Couldn't start transcription job %s.\", job_name)\n",
        "        raise\n",
        "    else:\n",
        "        return job\n"
      ]
    },
    {
      "cell_type": "code",
      "execution_count": null,
      "id": "b5c301b9-6df5-4e7a-b566-1550ac7477ad",
      "metadata": {
        "scrolled": true,
        "tags": [],
        "id": "b5c301b9-6df5-4e7a-b566-1550ac7477ad"
      },
      "outputs": [],
      "source": [
        "transcribe_client = boto3.client(\"transcribe\")\n",
        "\n",
        "#Syncing the local files on S3 bucket to be used for transcribe job\n",
        "\n",
        "os.system(\"aws s3 sync /data/split_audio s3://sagemaker-us-east-1-296512243111/shubham_pandey/split_audio\")\n",
        "\n",
        "\n",
        "\n",
        "job_name_list = []\n",
        "\n",
        "\n",
        "\n",
        "counter = 0\n",
        "for item in tqdm(audio_file_list):\n",
        "        counter = counter + 1\n",
        "        job_name = f\"nptel{uuid4().hex}\"\n",
        "        job_name_list.append(job_name)\n",
        "        print(item)\n",
        "        if counter % 30 ==0:\n",
        "            print(f\"sleeping for 10 seconds\")\n",
        "            time.sleep(10)\n",
        "        start_job(job_name,\n",
        "                  f\"s3://sagemaker-us-east-1-296512243111/shubham_pandey/split_audio/{item}\",\n",
        "                  media_format = \"wav\",\n",
        "                  language_code = \"en-GB\",\n",
        "                  transcribe_client = transcribe_client )"
      ]
    },
    {
      "cell_type": "markdown",
      "id": "8dab834c-802b-45e7-9201-6cc1830cfa61",
      "metadata": {
        "id": "8dab834c-802b-45e7-9201-6cc1830cfa61"
      },
      "source": [
        "---\n",
        "\n",
        "# Wait for transcribe jobs to finish\n",
        "\n",
        "Else an error will be encountered"
      ]
    },
    {
      "cell_type": "code",
      "execution_count": null,
      "id": "408e20ab-d318-4032-800c-69369d617519",
      "metadata": {
        "tags": [],
        "colab": {
          "referenced_widgets": [
            "45146536f03947628500ebd2510883cf"
          ]
        },
        "id": "408e20ab-d318-4032-800c-69369d617519",
        "outputId": "7afbbaa5-c57a-4b61-93a3-553df2d56dc5"
      },
      "outputs": [
        {
          "data": {
            "application/vnd.jupyter.widget-view+json": {
              "model_id": "45146536f03947628500ebd2510883cf",
              "version_major": 2,
              "version_minor": 0
            },
            "text/plain": [
              "  0%|          | 0/424 [00:00<?, ?it/s]"
            ]
          },
          "metadata": {},
          "output_type": "display_data"
        }
      ],
      "source": [
        "output_list = []\n",
        "for job in tqdm(job_name_list):\n",
        "\n",
        "    response = transcribe_client.get_transcription_job(\n",
        "        TranscriptionJobName=job\n",
        "    )\n",
        "\n",
        "    # print(response)\n",
        "    transcript_simple = requests.get(\n",
        "        response['TranscriptionJob']['Transcript']['TranscriptFileUri']).json()\n",
        "    # print(f\"Transcript for job {transcript_simple['jobName']}:\")\n",
        "    output_list.append(transcript_simple['results']['transcripts'][0]['transcript'])"
      ]
    },
    {
      "cell_type": "code",
      "execution_count": null,
      "id": "735ce71f-10cc-4344-915a-12c0fca484f2",
      "metadata": {
        "scrolled": true,
        "tags": [],
        "id": "735ce71f-10cc-4344-915a-12c0fca484f2"
      },
      "outputs": [],
      "source": [
        "output_list"
      ]
    },
    {
      "cell_type": "markdown",
      "source": [
        "Adding the file name with the time stamp to include in the transcript"
      ],
      "metadata": {
        "id": "1UJhh6s5dpaA"
      },
      "id": "1UJhh6s5dpaA"
    },
    {
      "cell_type": "code",
      "execution_count": null,
      "id": "ebc1f7b3-d33c-4a3d-adcf-959ca16a9681",
      "metadata": {
        "tags": [],
        "id": "ebc1f7b3-d33c-4a3d-adcf-959ca16a9681"
      },
      "outputs": [],
      "source": [
        "df = pd.DataFrame()\n",
        "df[\"file_name\"] = audio_file_list\n",
        "df[\"text\"] = output_list\n",
        "df[\"time\"] = [x.split(\"_\")[-1][:-7] for x in audio_file_list]"
      ]
    },
    {
      "cell_type": "code",
      "execution_count": null,
      "id": "83af76e1-6131-45ae-94f4-8aaec63d26bb",
      "metadata": {
        "tags": [],
        "id": "83af76e1-6131-45ae-94f4-8aaec63d26bb"
      },
      "outputs": [],
      "source": [
        "df.iloc[0,0]"
      ]
    },
    {
      "cell_type": "code",
      "execution_count": null,
      "id": "ac798b27-d143-4398-9121-b1ded57bdeac",
      "metadata": {
        "tags": [],
        "id": "ac798b27-d143-4398-9121-b1ded57bdeac"
      },
      "outputs": [],
      "source": [
        "def formattedtime(seconds):\n",
        "    #print(f\"formattedtime({seconds})\")\n",
        "    final_time = time.strftime(\"%H:%M:%S\", time.gmtime(float(seconds)))\n",
        "    return f\"{final_time}\""
      ]
    },
    {
      "cell_type": "code",
      "execution_count": null,
      "id": "f9299597-44db-49de-8379-df72294a567a",
      "metadata": {
        "tags": [],
        "id": "f9299597-44db-49de-8379-df72294a567a"
      },
      "outputs": [],
      "source": [
        "text_file_path = \"/data/text_files\"\n",
        "\n",
        "os.system(f\"mkdir -p {text_file_path}\")\n",
        "\n",
        "for index, row  in tqdm(df.iterrows(),total = df.shape[0]):\n",
        "    file_name = row[\"file_name\"]\n",
        "    start_time = formattedtime(row[\"time\"])\n",
        "    end_time  = formattedtime(str(int(row[\"time\"])+ time_duration ))\n",
        "    file_name = file_name[:file_name.rfind(\"_\")-12] + \".mp4\"\n",
        "    text = f\"File_name : {file_name} \\n \\n start_time : {start_time} \\n\\n end_time : {end_time} \\n\\n {df.loc[index,'text']}\"\n",
        "    filename = f\"{df.loc[index,'file_name'][:-4]}.txt\"\n",
        "    with open(f\"{text_file_path}/{filename}\", \"w\") as f:\n",
        "        f.write(text)\n"
      ]
    },
    {
      "cell_type": "code",
      "execution_count": null,
      "id": "db850b12-0fc9-4ee5-be0f-db4ca2b8947e",
      "metadata": {
        "id": "db850b12-0fc9-4ee5-be0f-db4ca2b8947e"
      },
      "outputs": [],
      "source": [
        "text_file_path = \"/data/text_files\"\n",
        "\n",
        "os.system(f\"mkdir -p {text_file_path}\")\n",
        "s = \"\"\n",
        "for index, row  in tqdm(df.iterrows(),total = df.shape[0]):\n",
        "    file_name = row[\"file_name\"]\n",
        "    start_time = formattedtime(row[\"time\"])\n",
        "    end_time  = formattedtime(str(int(row[\"time\"])+ time_duration ))\n",
        "    file_name = file_name[:file_name.rfind(\"_\")-12] + \".mp4\"\n",
        "    text =  df.loc[index,'text']\n",
        "    s = f\"{s}\\n {text}\"\n",
        "    filename = f\"{df.loc[index,'file_name'][:-4]}.txt\"\n",
        "with open(f\"full_text.txt\", \"w\") as f:\n",
        "    f.write(s)\n"
      ]
    },
    {
      "cell_type": "code",
      "execution_count": null,
      "id": "ce188443-0561-463a-bed7-05f37689bc7e",
      "metadata": {
        "id": "ce188443-0561-463a-bed7-05f37689bc7e"
      },
      "outputs": [],
      "source": []
    }
  ],
  "metadata": {
    "availableInstances": [
      {
        "_defaultOrder": 0,
        "_isFastLaunch": true,
        "category": "General purpose",
        "gpuNum": 0,
        "hideHardwareSpecs": false,
        "memoryGiB": 4,
        "name": "ml.t3.medium",
        "vcpuNum": 2
      },
      {
        "_defaultOrder": 1,
        "_isFastLaunch": false,
        "category": "General purpose",
        "gpuNum": 0,
        "hideHardwareSpecs": false,
        "memoryGiB": 8,
        "name": "ml.t3.large",
        "vcpuNum": 2
      },
      {
        "_defaultOrder": 2,
        "_isFastLaunch": false,
        "category": "General purpose",
        "gpuNum": 0,
        "hideHardwareSpecs": false,
        "memoryGiB": 16,
        "name": "ml.t3.xlarge",
        "vcpuNum": 4
      },
      {
        "_defaultOrder": 3,
        "_isFastLaunch": false,
        "category": "General purpose",
        "gpuNum": 0,
        "hideHardwareSpecs": false,
        "memoryGiB": 32,
        "name": "ml.t3.2xlarge",
        "vcpuNum": 8
      },
      {
        "_defaultOrder": 4,
        "_isFastLaunch": true,
        "category": "General purpose",
        "gpuNum": 0,
        "hideHardwareSpecs": false,
        "memoryGiB": 8,
        "name": "ml.m5.large",
        "vcpuNum": 2
      },
      {
        "_defaultOrder": 5,
        "_isFastLaunch": false,
        "category": "General purpose",
        "gpuNum": 0,
        "hideHardwareSpecs": false,
        "memoryGiB": 16,
        "name": "ml.m5.xlarge",
        "vcpuNum": 4
      },
      {
        "_defaultOrder": 6,
        "_isFastLaunch": false,
        "category": "General purpose",
        "gpuNum": 0,
        "hideHardwareSpecs": false,
        "memoryGiB": 32,
        "name": "ml.m5.2xlarge",
        "vcpuNum": 8
      },
      {
        "_defaultOrder": 7,
        "_isFastLaunch": false,
        "category": "General purpose",
        "gpuNum": 0,
        "hideHardwareSpecs": false,
        "memoryGiB": 64,
        "name": "ml.m5.4xlarge",
        "vcpuNum": 16
      },
      {
        "_defaultOrder": 8,
        "_isFastLaunch": false,
        "category": "General purpose",
        "gpuNum": 0,
        "hideHardwareSpecs": false,
        "memoryGiB": 128,
        "name": "ml.m5.8xlarge",
        "vcpuNum": 32
      },
      {
        "_defaultOrder": 9,
        "_isFastLaunch": false,
        "category": "General purpose",
        "gpuNum": 0,
        "hideHardwareSpecs": false,
        "memoryGiB": 192,
        "name": "ml.m5.12xlarge",
        "vcpuNum": 48
      },
      {
        "_defaultOrder": 10,
        "_isFastLaunch": false,
        "category": "General purpose",
        "gpuNum": 0,
        "hideHardwareSpecs": false,
        "memoryGiB": 256,
        "name": "ml.m5.16xlarge",
        "vcpuNum": 64
      },
      {
        "_defaultOrder": 11,
        "_isFastLaunch": false,
        "category": "General purpose",
        "gpuNum": 0,
        "hideHardwareSpecs": false,
        "memoryGiB": 384,
        "name": "ml.m5.24xlarge",
        "vcpuNum": 96
      },
      {
        "_defaultOrder": 12,
        "_isFastLaunch": false,
        "category": "General purpose",
        "gpuNum": 0,
        "hideHardwareSpecs": false,
        "memoryGiB": 8,
        "name": "ml.m5d.large",
        "vcpuNum": 2
      },
      {
        "_defaultOrder": 13,
        "_isFastLaunch": false,
        "category": "General purpose",
        "gpuNum": 0,
        "hideHardwareSpecs": false,
        "memoryGiB": 16,
        "name": "ml.m5d.xlarge",
        "vcpuNum": 4
      },
      {
        "_defaultOrder": 14,
        "_isFastLaunch": false,
        "category": "General purpose",
        "gpuNum": 0,
        "hideHardwareSpecs": false,
        "memoryGiB": 32,
        "name": "ml.m5d.2xlarge",
        "vcpuNum": 8
      },
      {
        "_defaultOrder": 15,
        "_isFastLaunch": false,
        "category": "General purpose",
        "gpuNum": 0,
        "hideHardwareSpecs": false,
        "memoryGiB": 64,
        "name": "ml.m5d.4xlarge",
        "vcpuNum": 16
      },
      {
        "_defaultOrder": 16,
        "_isFastLaunch": false,
        "category": "General purpose",
        "gpuNum": 0,
        "hideHardwareSpecs": false,
        "memoryGiB": 128,
        "name": "ml.m5d.8xlarge",
        "vcpuNum": 32
      },
      {
        "_defaultOrder": 17,
        "_isFastLaunch": false,
        "category": "General purpose",
        "gpuNum": 0,
        "hideHardwareSpecs": false,
        "memoryGiB": 192,
        "name": "ml.m5d.12xlarge",
        "vcpuNum": 48
      },
      {
        "_defaultOrder": 18,
        "_isFastLaunch": false,
        "category": "General purpose",
        "gpuNum": 0,
        "hideHardwareSpecs": false,
        "memoryGiB": 256,
        "name": "ml.m5d.16xlarge",
        "vcpuNum": 64
      },
      {
        "_defaultOrder": 19,
        "_isFastLaunch": false,
        "category": "General purpose",
        "gpuNum": 0,
        "hideHardwareSpecs": false,
        "memoryGiB": 384,
        "name": "ml.m5d.24xlarge",
        "vcpuNum": 96
      },
      {
        "_defaultOrder": 20,
        "_isFastLaunch": false,
        "category": "General purpose",
        "gpuNum": 0,
        "hideHardwareSpecs": true,
        "memoryGiB": 0,
        "name": "ml.geospatial.interactive",
        "supportedImageNames": [
          "sagemaker-geospatial-v1-0"
        ],
        "vcpuNum": 0
      },
      {
        "_defaultOrder": 21,
        "_isFastLaunch": true,
        "category": "Compute optimized",
        "gpuNum": 0,
        "hideHardwareSpecs": false,
        "memoryGiB": 4,
        "name": "ml.c5.large",
        "vcpuNum": 2
      },
      {
        "_defaultOrder": 22,
        "_isFastLaunch": false,
        "category": "Compute optimized",
        "gpuNum": 0,
        "hideHardwareSpecs": false,
        "memoryGiB": 8,
        "name": "ml.c5.xlarge",
        "vcpuNum": 4
      },
      {
        "_defaultOrder": 23,
        "_isFastLaunch": false,
        "category": "Compute optimized",
        "gpuNum": 0,
        "hideHardwareSpecs": false,
        "memoryGiB": 16,
        "name": "ml.c5.2xlarge",
        "vcpuNum": 8
      },
      {
        "_defaultOrder": 24,
        "_isFastLaunch": false,
        "category": "Compute optimized",
        "gpuNum": 0,
        "hideHardwareSpecs": false,
        "memoryGiB": 32,
        "name": "ml.c5.4xlarge",
        "vcpuNum": 16
      },
      {
        "_defaultOrder": 25,
        "_isFastLaunch": false,
        "category": "Compute optimized",
        "gpuNum": 0,
        "hideHardwareSpecs": false,
        "memoryGiB": 72,
        "name": "ml.c5.9xlarge",
        "vcpuNum": 36
      },
      {
        "_defaultOrder": 26,
        "_isFastLaunch": false,
        "category": "Compute optimized",
        "gpuNum": 0,
        "hideHardwareSpecs": false,
        "memoryGiB": 96,
        "name": "ml.c5.12xlarge",
        "vcpuNum": 48
      },
      {
        "_defaultOrder": 27,
        "_isFastLaunch": false,
        "category": "Compute optimized",
        "gpuNum": 0,
        "hideHardwareSpecs": false,
        "memoryGiB": 144,
        "name": "ml.c5.18xlarge",
        "vcpuNum": 72
      },
      {
        "_defaultOrder": 28,
        "_isFastLaunch": false,
        "category": "Compute optimized",
        "gpuNum": 0,
        "hideHardwareSpecs": false,
        "memoryGiB": 192,
        "name": "ml.c5.24xlarge",
        "vcpuNum": 96
      },
      {
        "_defaultOrder": 29,
        "_isFastLaunch": true,
        "category": "Accelerated computing",
        "gpuNum": 1,
        "hideHardwareSpecs": false,
        "memoryGiB": 16,
        "name": "ml.g4dn.xlarge",
        "vcpuNum": 4
      },
      {
        "_defaultOrder": 30,
        "_isFastLaunch": false,
        "category": "Accelerated computing",
        "gpuNum": 1,
        "hideHardwareSpecs": false,
        "memoryGiB": 32,
        "name": "ml.g4dn.2xlarge",
        "vcpuNum": 8
      },
      {
        "_defaultOrder": 31,
        "_isFastLaunch": false,
        "category": "Accelerated computing",
        "gpuNum": 1,
        "hideHardwareSpecs": false,
        "memoryGiB": 64,
        "name": "ml.g4dn.4xlarge",
        "vcpuNum": 16
      },
      {
        "_defaultOrder": 32,
        "_isFastLaunch": false,
        "category": "Accelerated computing",
        "gpuNum": 1,
        "hideHardwareSpecs": false,
        "memoryGiB": 128,
        "name": "ml.g4dn.8xlarge",
        "vcpuNum": 32
      },
      {
        "_defaultOrder": 33,
        "_isFastLaunch": false,
        "category": "Accelerated computing",
        "gpuNum": 4,
        "hideHardwareSpecs": false,
        "memoryGiB": 192,
        "name": "ml.g4dn.12xlarge",
        "vcpuNum": 48
      },
      {
        "_defaultOrder": 34,
        "_isFastLaunch": false,
        "category": "Accelerated computing",
        "gpuNum": 1,
        "hideHardwareSpecs": false,
        "memoryGiB": 256,
        "name": "ml.g4dn.16xlarge",
        "vcpuNum": 64
      },
      {
        "_defaultOrder": 35,
        "_isFastLaunch": false,
        "category": "Accelerated computing",
        "gpuNum": 1,
        "hideHardwareSpecs": false,
        "memoryGiB": 61,
        "name": "ml.p3.2xlarge",
        "vcpuNum": 8
      },
      {
        "_defaultOrder": 36,
        "_isFastLaunch": false,
        "category": "Accelerated computing",
        "gpuNum": 4,
        "hideHardwareSpecs": false,
        "memoryGiB": 244,
        "name": "ml.p3.8xlarge",
        "vcpuNum": 32
      },
      {
        "_defaultOrder": 37,
        "_isFastLaunch": false,
        "category": "Accelerated computing",
        "gpuNum": 8,
        "hideHardwareSpecs": false,
        "memoryGiB": 488,
        "name": "ml.p3.16xlarge",
        "vcpuNum": 64
      },
      {
        "_defaultOrder": 38,
        "_isFastLaunch": false,
        "category": "Accelerated computing",
        "gpuNum": 8,
        "hideHardwareSpecs": false,
        "memoryGiB": 768,
        "name": "ml.p3dn.24xlarge",
        "vcpuNum": 96
      },
      {
        "_defaultOrder": 39,
        "_isFastLaunch": false,
        "category": "Memory Optimized",
        "gpuNum": 0,
        "hideHardwareSpecs": false,
        "memoryGiB": 16,
        "name": "ml.r5.large",
        "vcpuNum": 2
      },
      {
        "_defaultOrder": 40,
        "_isFastLaunch": false,
        "category": "Memory Optimized",
        "gpuNum": 0,
        "hideHardwareSpecs": false,
        "memoryGiB": 32,
        "name": "ml.r5.xlarge",
        "vcpuNum": 4
      },
      {
        "_defaultOrder": 41,
        "_isFastLaunch": false,
        "category": "Memory Optimized",
        "gpuNum": 0,
        "hideHardwareSpecs": false,
        "memoryGiB": 64,
        "name": "ml.r5.2xlarge",
        "vcpuNum": 8
      },
      {
        "_defaultOrder": 42,
        "_isFastLaunch": false,
        "category": "Memory Optimized",
        "gpuNum": 0,
        "hideHardwareSpecs": false,
        "memoryGiB": 128,
        "name": "ml.r5.4xlarge",
        "vcpuNum": 16
      },
      {
        "_defaultOrder": 43,
        "_isFastLaunch": false,
        "category": "Memory Optimized",
        "gpuNum": 0,
        "hideHardwareSpecs": false,
        "memoryGiB": 256,
        "name": "ml.r5.8xlarge",
        "vcpuNum": 32
      },
      {
        "_defaultOrder": 44,
        "_isFastLaunch": false,
        "category": "Memory Optimized",
        "gpuNum": 0,
        "hideHardwareSpecs": false,
        "memoryGiB": 384,
        "name": "ml.r5.12xlarge",
        "vcpuNum": 48
      },
      {
        "_defaultOrder": 45,
        "_isFastLaunch": false,
        "category": "Memory Optimized",
        "gpuNum": 0,
        "hideHardwareSpecs": false,
        "memoryGiB": 512,
        "name": "ml.r5.16xlarge",
        "vcpuNum": 64
      },
      {
        "_defaultOrder": 46,
        "_isFastLaunch": false,
        "category": "Memory Optimized",
        "gpuNum": 0,
        "hideHardwareSpecs": false,
        "memoryGiB": 768,
        "name": "ml.r5.24xlarge",
        "vcpuNum": 96
      },
      {
        "_defaultOrder": 47,
        "_isFastLaunch": false,
        "category": "Accelerated computing",
        "gpuNum": 1,
        "hideHardwareSpecs": false,
        "memoryGiB": 16,
        "name": "ml.g5.xlarge",
        "vcpuNum": 4
      },
      {
        "_defaultOrder": 48,
        "_isFastLaunch": false,
        "category": "Accelerated computing",
        "gpuNum": 1,
        "hideHardwareSpecs": false,
        "memoryGiB": 32,
        "name": "ml.g5.2xlarge",
        "vcpuNum": 8
      },
      {
        "_defaultOrder": 49,
        "_isFastLaunch": false,
        "category": "Accelerated computing",
        "gpuNum": 1,
        "hideHardwareSpecs": false,
        "memoryGiB": 64,
        "name": "ml.g5.4xlarge",
        "vcpuNum": 16
      },
      {
        "_defaultOrder": 50,
        "_isFastLaunch": false,
        "category": "Accelerated computing",
        "gpuNum": 1,
        "hideHardwareSpecs": false,
        "memoryGiB": 128,
        "name": "ml.g5.8xlarge",
        "vcpuNum": 32
      },
      {
        "_defaultOrder": 51,
        "_isFastLaunch": false,
        "category": "Accelerated computing",
        "gpuNum": 1,
        "hideHardwareSpecs": false,
        "memoryGiB": 256,
        "name": "ml.g5.16xlarge",
        "vcpuNum": 64
      },
      {
        "_defaultOrder": 52,
        "_isFastLaunch": false,
        "category": "Accelerated computing",
        "gpuNum": 4,
        "hideHardwareSpecs": false,
        "memoryGiB": 192,
        "name": "ml.g5.12xlarge",
        "vcpuNum": 48
      },
      {
        "_defaultOrder": 53,
        "_isFastLaunch": false,
        "category": "Accelerated computing",
        "gpuNum": 4,
        "hideHardwareSpecs": false,
        "memoryGiB": 384,
        "name": "ml.g5.24xlarge",
        "vcpuNum": 96
      },
      {
        "_defaultOrder": 54,
        "_isFastLaunch": false,
        "category": "Accelerated computing",
        "gpuNum": 8,
        "hideHardwareSpecs": false,
        "memoryGiB": 768,
        "name": "ml.g5.48xlarge",
        "vcpuNum": 192
      },
      {
        "_defaultOrder": 55,
        "_isFastLaunch": false,
        "category": "Accelerated computing",
        "gpuNum": 8,
        "hideHardwareSpecs": false,
        "memoryGiB": 1152,
        "name": "ml.p4d.24xlarge",
        "vcpuNum": 96
      },
      {
        "_defaultOrder": 56,
        "_isFastLaunch": false,
        "category": "Accelerated computing",
        "gpuNum": 8,
        "hideHardwareSpecs": false,
        "memoryGiB": 1152,
        "name": "ml.p4de.24xlarge",
        "vcpuNum": 96
      },
      {
        "_defaultOrder": 57,
        "_isFastLaunch": false,
        "category": "Accelerated computing",
        "gpuNum": 0,
        "hideHardwareSpecs": false,
        "memoryGiB": 32,
        "name": "ml.trn1.2xlarge",
        "vcpuNum": 8
      },
      {
        "_defaultOrder": 58,
        "_isFastLaunch": false,
        "category": "Accelerated computing",
        "gpuNum": 0,
        "hideHardwareSpecs": false,
        "memoryGiB": 512,
        "name": "ml.trn1.32xlarge",
        "vcpuNum": 128
      },
      {
        "_defaultOrder": 59,
        "_isFastLaunch": false,
        "category": "Accelerated computing",
        "gpuNum": 0,
        "hideHardwareSpecs": false,
        "memoryGiB": 512,
        "name": "ml.trn1n.32xlarge",
        "vcpuNum": 128
      }
    ],
    "instance_type": "ml.t3.medium",
    "kernelspec": {
      "display_name": "Python 3 (Data Science 3.0)",
      "language": "python",
      "name": "python3__SAGEMAKER_INTERNAL__arn:aws:sagemaker:us-east-1:081325390199:image/sagemaker-data-science-310-v1"
    },
    "language_info": {
      "codemirror_mode": {
        "name": "ipython",
        "version": 3
      },
      "file_extension": ".py",
      "mimetype": "text/x-python",
      "name": "python",
      "nbconvert_exporter": "python",
      "pygments_lexer": "ipython3",
      "version": "3.10.6"
    },
    "colab": {
      "provenance": []
    }
  },
  "nbformat": 4,
  "nbformat_minor": 5
}